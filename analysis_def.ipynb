{
 "cells": [
  {
   "cell_type": "markdown",
   "metadata": {},
   "source": [
    "![title](static/wcar.png)\n",
    "# Interacting Partners for BACE1\n",
    "    Jennie Gabriel* and Michele Tinti**\n",
    "    \n",
    "    *Division of Systems Medicine, School of Medicine\n",
    "    **Wellcome Centre for Anti-Infectives Research, School of Life Sciences\n",
    "    University of Dundee"
   ]
  },
  {
   "cell_type": "code",
   "execution_count": 1,
   "metadata": {},
   "outputs": [],
   "source": [
    "#reload library if modified\n",
    "%load_ext autoreload\n",
    "%autoreload 2"
   ]
  },
  {
   "cell_type": "code",
   "execution_count": 2,
   "metadata": {},
   "outputs": [],
   "source": [
    "#!ln -s /Users/mtinti/Desktop/git_projects/protUtil/ProLib ProLib"
   ]
  },
  {
   "cell_type": "code",
   "execution_count": 3,
   "metadata": {},
   "outputs": [],
   "source": [
    "import os\n",
    "import utilities as PTUT\n",
    "import pandas as pd\n",
    "import seaborn as sns\n",
    "import matplotlib.pyplot as plt\n",
    "import numpy as np\n",
    "import ProtRank\n",
    "import gc\n",
    "plt.style.use('ggplot')"
   ]
  },
  {
   "cell_type": "markdown",
   "metadata": {},
   "source": [
    "## Load Data"
   ]
  },
  {
   "cell_type": "code",
   "execution_count": 4,
   "metadata": {},
   "outputs": [],
   "source": [
    "TXT_PATH = os.path.join('txt')\n",
    "#TXT_PATH=''\n",
    "df = pd.read_csv(os.path.join(TXT_PATH, 'proteinGroups.zip'),sep='\\t')\n",
    "\n",
    "#df[df['Protein IDs'].str.contains('ZDH20_MOUSE')]"
   ]
  },
  {
   "cell_type": "code",
   "execution_count": 5,
   "metadata": {},
   "outputs": [
    {
     "name": "stdout",
     "output_type": "stream",
     "text": [
      "starting from: (2240, 111)\n",
      "removed  63 Protein Groups by: Only identified by site\n",
      "tot  63  entries removed\n",
      "---------------\n",
      "removed  21 Protein Groups by: Reverse\n",
      "tot  84  entries removed\n",
      "---------------\n",
      "removed  42 Protein Groups by: Potential contaminant\n",
      "tot  126  entries removed\n",
      "---------------\n",
      "Score\n",
      "nothing removed\n",
      "---------------\n",
      "removed  405 Protein Groups by: Peptide counts (unique)\n",
      "tot  531  entries removed\n",
      "---------------\n",
      "(1709, 114)\n"
     ]
    },
    {
     "data": {
      "text/html": [
       "<div>\n",
       "<style scoped>\n",
       "    .dataframe tbody tr th:only-of-type {\n",
       "        vertical-align: middle;\n",
       "    }\n",
       "\n",
       "    .dataframe tbody tr th {\n",
       "        vertical-align: top;\n",
       "    }\n",
       "\n",
       "    .dataframe thead th {\n",
       "        text-align: right;\n",
       "    }\n",
       "</style>\n",
       "<table border=\"1\" class=\"dataframe\">\n",
       "  <thead>\n",
       "    <tr style=\"text-align: right;\">\n",
       "      <th></th>\n",
       "      <th>Protein IDs</th>\n",
       "      <th>Majority protein IDs</th>\n",
       "      <th>Peptide counts (all)</th>\n",
       "      <th>Peptide counts (razor+unique)</th>\n",
       "      <th>Peptide counts (unique)</th>\n",
       "      <th>Fasta headers</th>\n",
       "      <th>Number of proteins</th>\n",
       "      <th>Peptides</th>\n",
       "      <th>Razor + unique peptides</th>\n",
       "      <th>Unique peptides</th>\n",
       "      <th>...</th>\n",
       "      <th>Deamidation (NQ) site IDs</th>\n",
       "      <th>Dioxidation (MW) site IDs</th>\n",
       "      <th>Oxidation (M) site IDs</th>\n",
       "      <th>Deamidation (NQ) site positions</th>\n",
       "      <th>Dioxidation (MW) site positions</th>\n",
       "      <th>Oxidation (M) site positions</th>\n",
       "      <th>Taxonomy IDs</th>\n",
       "      <th>unique_int</th>\n",
       "      <th>Gene_id</th>\n",
       "      <th>desc</th>\n",
       "    </tr>\n",
       "  </thead>\n",
       "  <tbody>\n",
       "    <tr>\n",
       "      <th>0</th>\n",
       "      <td>BACE1-BirA;sp|P56818|BACE1_MOUSE;tr|Q8C4F4|Q8C...</td>\n",
       "      <td>BACE1-BirA</td>\n",
       "      <td>39;14;11;9;2</td>\n",
       "      <td>39;14;11;9;2</td>\n",
       "      <td>39;14;11;9;2</td>\n",
       "      <td>BACE1-BirA fusion protein DNA sequence</td>\n",
       "      <td>5</td>\n",
       "      <td>39</td>\n",
       "      <td>39</td>\n",
       "      <td>39</td>\n",
       "      <td>...</td>\n",
       "      <td>0;1;2;3;4;5;6;7;654;655</td>\n",
       "      <td>20;21;22;23</td>\n",
       "      <td>0;1;2;3;4;5;6</td>\n",
       "      <td>153;270;522;530;574;681;726;727;738;742</td>\n",
       "      <td>552;679;729;815</td>\n",
       "      <td>63;79;537;715;717;747;816</td>\n",
       "      <td>-1;-1;-1;-1;-1</td>\n",
       "      <td>39</td>\n",
       "      <td>BACE1-BirA</td>\n",
       "      <td>none</td>\n",
       "    </tr>\n",
       "    <tr>\n",
       "      <th>72</th>\n",
       "      <td>tr|E9PXY1|E9PXY1_MOUSE;sp|A2A432|CUL4B_MOUSE;t...</td>\n",
       "      <td>tr|E9PXY1|E9PXY1_MOUSE;sp|A2A432|CUL4B_MOUSE</td>\n",
       "      <td>11;11;5;2</td>\n",
       "      <td>11;11;5;2</td>\n",
       "      <td>4;4;2;0</td>\n",
       "      <td>tr|E9PXY1|E9PXY1_MOUSE Cullin-4B OS=Mus muscul...</td>\n",
       "      <td>4</td>\n",
       "      <td>11</td>\n",
       "      <td>11</td>\n",
       "      <td>4</td>\n",
       "      <td>...</td>\n",
       "      <td>NaN</td>\n",
       "      <td>NaN</td>\n",
       "      <td>NaN</td>\n",
       "      <td>NaN</td>\n",
       "      <td>NaN</td>\n",
       "      <td>NaN</td>\n",
       "      <td>-1;-1;-1;-1</td>\n",
       "      <td>4</td>\n",
       "      <td>tr|E9PXY1|E9PXY1_MOUSE</td>\n",
       "      <td>tr|E9PXY1|E9PXY1_MOUSE Cullin-4B</td>\n",
       "    </tr>\n",
       "    <tr>\n",
       "      <th>73</th>\n",
       "      <td>tr|F6VP19|F6VP19_MOUSE;sp|A2A690|TANC2_MOUSE</td>\n",
       "      <td>tr|F6VP19|F6VP19_MOUSE;sp|A2A690|TANC2_MOUSE</td>\n",
       "      <td>3;3</td>\n",
       "      <td>3;3</td>\n",
       "      <td>3;3</td>\n",
       "      <td>tr|F6VP19|F6VP19_MOUSE Protein TANC2 (Fragment...</td>\n",
       "      <td>2</td>\n",
       "      <td>3</td>\n",
       "      <td>3</td>\n",
       "      <td>3</td>\n",
       "      <td>...</td>\n",
       "      <td>NaN</td>\n",
       "      <td>NaN</td>\n",
       "      <td>NaN</td>\n",
       "      <td>NaN</td>\n",
       "      <td>NaN</td>\n",
       "      <td>NaN</td>\n",
       "      <td>-1;-1</td>\n",
       "      <td>3</td>\n",
       "      <td>tr|F6VP19|F6VP19_MOUSE</td>\n",
       "      <td>tr|F6VP19|F6VP19_MOUSE Protein TANC2 (Fragment)</td>\n",
       "    </tr>\n",
       "    <tr>\n",
       "      <th>74</th>\n",
       "      <td>sp|A2A6A1|GPTC8_MOUSE</td>\n",
       "      <td>sp|A2A6A1|GPTC8_MOUSE</td>\n",
       "      <td>13</td>\n",
       "      <td>13</td>\n",
       "      <td>13</td>\n",
       "      <td>sp|A2A6A1|GPTC8_MOUSE G patch domain-containin...</td>\n",
       "      <td>1</td>\n",
       "      <td>13</td>\n",
       "      <td>13</td>\n",
       "      <td>13</td>\n",
       "      <td>...</td>\n",
       "      <td>NaN</td>\n",
       "      <td>NaN</td>\n",
       "      <td>NaN</td>\n",
       "      <td>NaN</td>\n",
       "      <td>NaN</td>\n",
       "      <td>NaN</td>\n",
       "      <td>-1</td>\n",
       "      <td>13</td>\n",
       "      <td>sp|A2A6A1|GPTC8_MOUSE</td>\n",
       "      <td>G patch domain-containing protein 8</td>\n",
       "    </tr>\n",
       "    <tr>\n",
       "      <th>75</th>\n",
       "      <td>sp|A2A6Q5|CDC27_MOUSE</td>\n",
       "      <td>sp|A2A6Q5|CDC27_MOUSE</td>\n",
       "      <td>2</td>\n",
       "      <td>2</td>\n",
       "      <td>2</td>\n",
       "      <td>sp|A2A6Q5|CDC27_MOUSE Cell division cycle prot...</td>\n",
       "      <td>1</td>\n",
       "      <td>2</td>\n",
       "      <td>2</td>\n",
       "      <td>2</td>\n",
       "      <td>...</td>\n",
       "      <td>NaN</td>\n",
       "      <td>NaN</td>\n",
       "      <td>NaN</td>\n",
       "      <td>NaN</td>\n",
       "      <td>NaN</td>\n",
       "      <td>NaN</td>\n",
       "      <td>-1</td>\n",
       "      <td>2</td>\n",
       "      <td>sp|A2A6Q5|CDC27_MOUSE</td>\n",
       "      <td>Cell division cycle protein 27 homolog</td>\n",
       "    </tr>\n",
       "  </tbody>\n",
       "</table>\n",
       "<p>5 rows × 114 columns</p>\n",
       "</div>"
      ],
      "text/plain": [
       "                                          Protein IDs                          Majority protein IDs Peptide counts (all) Peptide counts (razor+unique)  \\\n",
       "0   BACE1-BirA;sp|P56818|BACE1_MOUSE;tr|Q8C4F4|Q8C...                                    BACE1-BirA         39;14;11;9;2                  39;14;11;9;2   \n",
       "72  tr|E9PXY1|E9PXY1_MOUSE;sp|A2A432|CUL4B_MOUSE;t...  tr|E9PXY1|E9PXY1_MOUSE;sp|A2A432|CUL4B_MOUSE            11;11;5;2                     11;11;5;2   \n",
       "73       tr|F6VP19|F6VP19_MOUSE;sp|A2A690|TANC2_MOUSE  tr|F6VP19|F6VP19_MOUSE;sp|A2A690|TANC2_MOUSE                  3;3                           3;3   \n",
       "74                              sp|A2A6A1|GPTC8_MOUSE                         sp|A2A6A1|GPTC8_MOUSE                   13                            13   \n",
       "75                              sp|A2A6Q5|CDC27_MOUSE                         sp|A2A6Q5|CDC27_MOUSE                    2                             2   \n",
       "\n",
       "   Peptide counts (unique)                                      Fasta headers  Number of proteins  Peptides  Razor + unique peptides  Unique peptides  ...  \\\n",
       "0             39;14;11;9;2             BACE1-BirA fusion protein DNA sequence                   5        39                       39               39  ...   \n",
       "72                 4;4;2;0  tr|E9PXY1|E9PXY1_MOUSE Cullin-4B OS=Mus muscul...                   4        11                       11                4  ...   \n",
       "73                     3;3  tr|F6VP19|F6VP19_MOUSE Protein TANC2 (Fragment...                   2         3                        3                3  ...   \n",
       "74                      13  sp|A2A6A1|GPTC8_MOUSE G patch domain-containin...                   1        13                       13               13  ...   \n",
       "75                       2  sp|A2A6Q5|CDC27_MOUSE Cell division cycle prot...                   1         2                        2                2  ...   \n",
       "\n",
       "    Deamidation (NQ) site IDs  Dioxidation (MW) site IDs  Oxidation (M) site IDs          Deamidation (NQ) site positions  Dioxidation (MW) site positions  \\\n",
       "0     0;1;2;3;4;5;6;7;654;655                20;21;22;23           0;1;2;3;4;5;6  153;270;522;530;574;681;726;727;738;742                  552;679;729;815   \n",
       "72                        NaN                        NaN                     NaN                                      NaN                              NaN   \n",
       "73                        NaN                        NaN                     NaN                                      NaN                              NaN   \n",
       "74                        NaN                        NaN                     NaN                                      NaN                              NaN   \n",
       "75                        NaN                        NaN                     NaN                                      NaN                              NaN   \n",
       "\n",
       "    Oxidation (M) site positions    Taxonomy IDs  unique_int                 Gene_id                                             desc  \n",
       "0      63;79;537;715;717;747;816  -1;-1;-1;-1;-1          39              BACE1-BirA                                             none  \n",
       "72                           NaN     -1;-1;-1;-1           4  tr|E9PXY1|E9PXY1_MOUSE                 tr|E9PXY1|E9PXY1_MOUSE Cullin-4B  \n",
       "73                           NaN           -1;-1           3  tr|F6VP19|F6VP19_MOUSE  tr|F6VP19|F6VP19_MOUSE Protein TANC2 (Fragment)  \n",
       "74                           NaN              -1          13   sp|A2A6A1|GPTC8_MOUSE              G patch domain-containing protein 8  \n",
       "75                           NaN              -1           2   sp|A2A6Q5|CDC27_MOUSE           Cell division cycle protein 27 homolog  \n",
       "\n",
       "[5 rows x 114 columns]"
      ]
     },
     "execution_count": 5,
     "metadata": {},
     "output_type": "execute_result"
    }
   ],
   "source": [
    "df = PTUT.clean_df(df, score=1, unique_pep_threshold=2)\n",
    "df = PTUT.mod_df(df)\n",
    "print(df.shape)\n",
    "df.head()"
   ]
  },
  {
   "cell_type": "markdown",
   "metadata": {},
   "source": [
    "## iBAQ analysis "
   ]
  },
  {
   "cell_type": "code",
   "execution_count": 6,
   "metadata": {},
   "outputs": [],
   "source": [
    "#color palette\n",
    "palette=['b','b','b','r','r','r','g','g','g']\n",
    "palette_g = ['r','b']\n",
    "color_dictionary = { 'b':'24h','r':'48h','g':'Control'}"
   ]
  },
  {
   "cell_type": "code",
   "execution_count": 7,
   "metadata": {},
   "outputs": [],
   "source": [
    "#tag='LFQ intensity'\n",
    "tag='iBAQ'\n",
    "bait_cols = [tag+' E{}_24'.format(n) for n in range(1,4)]+[tag+' E{}_48'.format(n) for n in range(1,4)]\n",
    "\n",
    "control_cols = [tag+' C'+str(n) for n in range(1,4)]\n",
    "cols = bait_cols+control_cols\n",
    "selection = df[cols]\n",
    "selection.columns = [n.replace(tag+' ','') for n in selection.columns]\n",
    "\n",
    "#df[['Gene_id']].join(np.log2(selection).replace(0,np.nan),how='left').to_csv('in_pt.csv',index=False)"
   ]
  },
  {
   "cell_type": "code",
   "execution_count": 8,
   "metadata": {},
   "outputs": [
    {
     "name": "stdout",
     "output_type": "stream",
     "text": [
      "(1709, 9)\n",
      "(1598, 9)\n"
     ]
    }
   ],
   "source": [
    "print(selection.shape)\n",
    "all_na = selection.replace(0,np.nan).isna().sum(axis=1)==6\n",
    "selection=selection[~all_na]\n",
    "print(selection.shape)"
   ]
  },
  {
   "cell_type": "code",
   "execution_count": 9,
   "metadata": {},
   "outputs": [
    {
     "data": {
      "image/png": "[encoded data removed]",
      "text/plain": [
       "<Figure size 1008x288 with 2 Axes>"
      ]
     },
     "metadata": {},
     "output_type": "display_data"
    }
   ],
   "source": [
    "plt.style.use('ggplot')\n",
    "fig,axes=plt.subplots(ncols=2,nrows=1,figsize=(14,4))\n",
    "\n",
    "np.log10(selection.replace(0,np.nan)).plot(\n",
    "    kind='kde', color=palette, alpha=0.5,ax=axes[0])\n",
    "axes[0].legend(loc='center left', bbox_to_anchor=(0.7, 0.5))\n",
    "axes[0].set_title('Value Distribution')\n",
    "axes[0].set_xlabel('Log10 Intensity')\n",
    "\n",
    "sns.boxplot(data =np.log10(selection.replace(0,np.nan)),\n",
    "            showfliers=False,palette=palette,ax=axes[1])\n",
    "plt.title('Value Distribution')\n",
    "plt.xlabel('Log10 Intensity')\n",
    "plt.savefig(os.path.join(TXT_PATH, 'value_distribution.png'))\n",
    "plt.show()"
   ]
  },
  {
   "cell_type": "code",
   "execution_count": 10,
   "metadata": {},
   "outputs": [
    {
     "data": {
      "text/html": [
       "<div>\n",
       "<style scoped>\n",
       "    .dataframe tbody tr th:only-of-type {\n",
       "        vertical-align: middle;\n",
       "    }\n",
       "\n",
       "    .dataframe tbody tr th {\n",
       "        vertical-align: top;\n",
       "    }\n",
       "\n",
       "    .dataframe thead th {\n",
       "        text-align: right;\n",
       "    }\n",
       "</style>\n",
       "<table border=\"1\" class=\"dataframe\">\n",
       "  <thead>\n",
       "    <tr style=\"text-align: right;\">\n",
       "      <th></th>\n",
       "      <th>E1_24</th>\n",
       "      <th>E2_24</th>\n",
       "      <th>E3_24</th>\n",
       "      <th>E1_48</th>\n",
       "      <th>E2_48</th>\n",
       "      <th>E3_48</th>\n",
       "      <th>C1</th>\n",
       "      <th>C2</th>\n",
       "      <th>C3</th>\n",
       "    </tr>\n",
       "  </thead>\n",
       "  <tbody>\n",
       "    <tr>\n",
       "      <th>0</th>\n",
       "      <td>60028000.0</td>\n",
       "      <td>90019000.0</td>\n",
       "      <td>17170000.0</td>\n",
       "      <td>56801000.0</td>\n",
       "      <td>31066000.0</td>\n",
       "      <td>1642500.0</td>\n",
       "      <td>44836.0</td>\n",
       "      <td>0.0</td>\n",
       "      <td>0.0</td>\n",
       "    </tr>\n",
       "    <tr>\n",
       "      <th>72</th>\n",
       "      <td>61996.0</td>\n",
       "      <td>284160.0</td>\n",
       "      <td>60131.0</td>\n",
       "      <td>45297.0</td>\n",
       "      <td>177640.0</td>\n",
       "      <td>32438.0</td>\n",
       "      <td>305770.0</td>\n",
       "      <td>130720.0</td>\n",
       "      <td>82699.0</td>\n",
       "    </tr>\n",
       "    <tr>\n",
       "      <th>74</th>\n",
       "      <td>98221.0</td>\n",
       "      <td>147320.0</td>\n",
       "      <td>296710.0</td>\n",
       "      <td>133530.0</td>\n",
       "      <td>290080.0</td>\n",
       "      <td>161310.0</td>\n",
       "      <td>521370.0</td>\n",
       "      <td>350320.0</td>\n",
       "      <td>129860.0</td>\n",
       "    </tr>\n",
       "    <tr>\n",
       "      <th>75</th>\n",
       "      <td>95003.0</td>\n",
       "      <td>49881.0</td>\n",
       "      <td>46209.0</td>\n",
       "      <td>52316.0</td>\n",
       "      <td>0.0</td>\n",
       "      <td>0.0</td>\n",
       "      <td>40880.0</td>\n",
       "      <td>0.0</td>\n",
       "      <td>0.0</td>\n",
       "    </tr>\n",
       "    <tr>\n",
       "      <th>76</th>\n",
       "      <td>11631.0</td>\n",
       "      <td>46225.0</td>\n",
       "      <td>20071.0</td>\n",
       "      <td>25020.0</td>\n",
       "      <td>42658.0</td>\n",
       "      <td>5042.1</td>\n",
       "      <td>28655.0</td>\n",
       "      <td>31074.0</td>\n",
       "      <td>25978.0</td>\n",
       "    </tr>\n",
       "  </tbody>\n",
       "</table>\n",
       "</div>"
      ],
      "text/plain": [
       "         E1_24       E2_24       E3_24       E1_48       E2_48      E3_48        C1        C2        C3\n",
       "0   60028000.0  90019000.0  17170000.0  56801000.0  31066000.0  1642500.0   44836.0       0.0       0.0\n",
       "72     61996.0    284160.0     60131.0     45297.0    177640.0    32438.0  305770.0  130720.0   82699.0\n",
       "74     98221.0    147320.0    296710.0    133530.0    290080.0   161310.0  521370.0  350320.0  129860.0\n",
       "75     95003.0     49881.0     46209.0     52316.0         0.0        0.0   40880.0       0.0       0.0\n",
       "76     11631.0     46225.0     20071.0     25020.0     42658.0     5042.1   28655.0   31074.0   25978.0"
      ]
     },
     "execution_count": 10,
     "metadata": {},
     "output_type": "execute_result"
    }
   ],
   "source": [
    "selection.head()"
   ]
  },
  {
   "cell_type": "markdown",
   "metadata": {},
   "source": [
    "## Missing Data"
   ]
  },
  {
   "cell_type": "code",
   "execution_count": 11,
   "metadata": {},
   "outputs": [
    {
     "data": {
      "image/png": "[encoded data removed]",
      "text/plain": [
       "<Figure size 432x432 with 3 Axes>"
      ]
     },
     "metadata": {},
     "output_type": "display_data"
    }
   ],
   "source": [
    "import missingno as msno\n",
    "import numpy as np\n",
    "import matplotlib.pyplot as plt\n",
    "#visualization of missing data\n",
    "ax=msno.bar(selection.replace(0,np.nan),figsize=(6, 6))\n",
    "plt.title('Missing Data Analysis',size=12)\n",
    "ax.set_ylabel('Fraction of data points',size=12)\n",
    "plt.tight_layout()\n",
    "plt.savefig('missing.png')\n",
    "plt.show()"
   ]
  },
  {
   "cell_type": "code",
   "execution_count": 12,
   "metadata": {},
   "outputs": [
    {
     "name": "stdout",
     "output_type": "stream",
     "text": [
      "{'b': '24h', 'r': '48h', 'g': 'Control'}\n"
     ]
    },
    {
     "data": {
      "image/png": "[encoded data removed]",
      "text/plain": [
       "<Figure size 432x432 with 1 Axes>"
      ]
     },
     "metadata": {},
     "output_type": "display_data"
    }
   ],
   "source": [
    "plt.style.use('ggplot')\n",
    "np.random.seed=1976\n",
    "fig,ax = plt.subplots(figsize=(6,6), ncols=1, nrows=1)\n",
    "PTUT.make_mds(np.log10(selection+1).dropna(),\n",
    "              palette,ax,color_dictionary=color_dictionary,top=1200)\n",
    "plt.savefig('MDS.png')\n",
    "plt.show()\n",
    "\n"
   ]
  },
  {
   "cell_type": "markdown",
   "metadata": {},
   "source": [
    "## Proteins Found only in bait"
   ]
  },
  {
   "cell_type": "code",
   "execution_count": 13,
   "metadata": {},
   "outputs": [
    {
     "name": "stdout",
     "output_type": "stream",
     "text": [
      " Found only in Bait: 98 \n",
      "\n"
     ]
    }
   ],
   "source": [
    "bait_cols=[n.replace(tag,'').strip() for n in bait_cols]\n",
    "control_cols=[n.replace(tag,'').strip() for n in control_cols]\n",
    "\n",
    "bait_nan = selection[bait_cols].replace(0,np.nan).isna().sum(axis=1)\n",
    "control_nan  = selection[control_cols].replace(0,np.nan).isna().sum(axis=1)\n",
    "only_bait = selection[(bait_nan<=2) & (control_nan==3)]\n",
    "\n",
    "print(' Found only in Bait:',only_bait.shape[0],'\\n')"
   ]
  },
  {
   "cell_type": "code",
   "execution_count": 15,
   "metadata": {},
   "outputs": [
    {
     "data": {
      "text/html": [
       "<div>\n",
       "<style scoped>\n",
       "    .dataframe tbody tr th:only-of-type {\n",
       "        vertical-align: middle;\n",
       "    }\n",
       "\n",
       "    .dataframe tbody tr th {\n",
       "        vertical-align: top;\n",
       "    }\n",
       "\n",
       "    .dataframe thead th {\n",
       "        text-align: right;\n",
       "    }\n",
       "</style>\n",
       "<table border=\"1\" class=\"dataframe\">\n",
       "  <thead>\n",
       "    <tr style=\"text-align: right;\">\n",
       "      <th></th>\n",
       "      <th>Gene_id</th>\n",
       "      <th>mean</th>\n",
       "      <th>E1_24</th>\n",
       "      <th>E2_24</th>\n",
       "      <th>E3_24</th>\n",
       "      <th>E1_48</th>\n",
       "      <th>E2_48</th>\n",
       "      <th>E3_48</th>\n",
       "      <th>Score</th>\n",
       "      <th>exp_rank</th>\n",
       "    </tr>\n",
       "  </thead>\n",
       "  <tbody>\n",
       "    <tr>\n",
       "      <th>1140</th>\n",
       "      <td>sp|Q80UU9|PGRC2_MOUSE</td>\n",
       "      <td>2.325045e+07</td>\n",
       "      <td>12916000.0</td>\n",
       "      <td>49517000.0</td>\n",
       "      <td>10160000.0</td>\n",
       "      <td>16911000.0</td>\n",
       "      <td>44061000.0</td>\n",
       "      <td>5937700.0</td>\n",
       "      <td>125.4700</td>\n",
       "      <td>1.0</td>\n",
       "    </tr>\n",
       "    <tr>\n",
       "      <th>482</th>\n",
       "      <td>sp|P49817|CAV1_MOUSE</td>\n",
       "      <td>1.232903e+07</td>\n",
       "      <td>6015700.0</td>\n",
       "      <td>23340000.0</td>\n",
       "      <td>2271900.0</td>\n",
       "      <td>13328000.0</td>\n",
       "      <td>27723000.0</td>\n",
       "      <td>1295600.0</td>\n",
       "      <td>24.6820</td>\n",
       "      <td>2.0</td>\n",
       "    </tr>\n",
       "    <tr>\n",
       "      <th>612</th>\n",
       "      <td>sp|P63024|VAMP3_MOUSE</td>\n",
       "      <td>1.112018e+07</td>\n",
       "      <td>2605300.0</td>\n",
       "      <td>22097000.0</td>\n",
       "      <td>3207800.0</td>\n",
       "      <td>12741000.0</td>\n",
       "      <td>24207000.0</td>\n",
       "      <td>1863000.0</td>\n",
       "      <td>110.4200</td>\n",
       "      <td>3.0</td>\n",
       "    </tr>\n",
       "    <tr>\n",
       "      <th>1709</th>\n",
       "      <td>sp|Q9CQW1|YKT6_MOUSE</td>\n",
       "      <td>9.497417e+06</td>\n",
       "      <td>3313900.0</td>\n",
       "      <td>18795000.0</td>\n",
       "      <td>2578400.0</td>\n",
       "      <td>10844000.0</td>\n",
       "      <td>19172000.0</td>\n",
       "      <td>2281200.0</td>\n",
       "      <td>38.9100</td>\n",
       "      <td>4.0</td>\n",
       "    </tr>\n",
       "    <tr>\n",
       "      <th>1711</th>\n",
       "      <td>sp|Q9CQW9|IFM3_MOUSE</td>\n",
       "      <td>8.534028e+06</td>\n",
       "      <td>4405000.0</td>\n",
       "      <td>13901000.0</td>\n",
       "      <td>5483500.0</td>\n",
       "      <td>13652000.0</td>\n",
       "      <td>13214000.0</td>\n",
       "      <td>548670.0</td>\n",
       "      <td>10.8060</td>\n",
       "      <td>5.0</td>\n",
       "    </tr>\n",
       "    <tr>\n",
       "      <th>1319</th>\n",
       "      <td>tr|A0A0J9YTY0|A0A0J9YTY0_MOUSE</td>\n",
       "      <td>4.908087e+06</td>\n",
       "      <td>1793900.0</td>\n",
       "      <td>9902200.0</td>\n",
       "      <td>1302300.0</td>\n",
       "      <td>4349200.0</td>\n",
       "      <td>11343000.0</td>\n",
       "      <td>757920.0</td>\n",
       "      <td>127.5700</td>\n",
       "      <td>6.0</td>\n",
       "    </tr>\n",
       "    <tr>\n",
       "      <th>1379</th>\n",
       "      <td>tr|A0A0R4J1G9|A0A0R4J1G9_MOUSE</td>\n",
       "      <td>3.377193e+06</td>\n",
       "      <td>1734200.0</td>\n",
       "      <td>6784900.0</td>\n",
       "      <td>1624700.0</td>\n",
       "      <td>3975400.0</td>\n",
       "      <td>5764700.0</td>\n",
       "      <td>379260.0</td>\n",
       "      <td>36.6180</td>\n",
       "      <td>7.0</td>\n",
       "    </tr>\n",
       "    <tr>\n",
       "      <th>2040</th>\n",
       "      <td>tr|Q924U4|Q924U4_MOUSE</td>\n",
       "      <td>2.428705e+06</td>\n",
       "      <td>57304.0</td>\n",
       "      <td>7757400.0</td>\n",
       "      <td>1689300.0</td>\n",
       "      <td>610120.0</td>\n",
       "      <td>2029400.0</td>\n",
       "      <td>0.0</td>\n",
       "      <td>4.5403</td>\n",
       "      <td>8.0</td>\n",
       "    </tr>\n",
       "    <tr>\n",
       "      <th>967</th>\n",
       "      <td>sp|Q63918|CAVN2_MOUSE</td>\n",
       "      <td>2.308570e+06</td>\n",
       "      <td>2156100.0</td>\n",
       "      <td>3391100.0</td>\n",
       "      <td>154650.0</td>\n",
       "      <td>2936200.0</td>\n",
       "      <td>2904800.0</td>\n",
       "      <td>0.0</td>\n",
       "      <td>110.8600</td>\n",
       "      <td>9.0</td>\n",
       "    </tr>\n",
       "    <tr>\n",
       "      <th>144</th>\n",
       "      <td>sp|O09044|SNP23_MOUSE</td>\n",
       "      <td>2.228165e+06</td>\n",
       "      <td>1408800.0</td>\n",
       "      <td>5738900.0</td>\n",
       "      <td>892600.0</td>\n",
       "      <td>2043000.0</td>\n",
       "      <td>3134500.0</td>\n",
       "      <td>151190.0</td>\n",
       "      <td>55.6360</td>\n",
       "      <td>10.0</td>\n",
       "    </tr>\n",
       "  </tbody>\n",
       "</table>\n",
       "</div>"
      ],
      "text/plain": [
       "                             Gene_id          mean       E1_24       E2_24       E3_24       E1_48       E2_48      E3_48     Score  exp_rank\n",
       "1140           sp|Q80UU9|PGRC2_MOUSE  2.325045e+07  12916000.0  49517000.0  10160000.0  16911000.0  44061000.0  5937700.0  125.4700       1.0\n",
       "482             sp|P49817|CAV1_MOUSE  1.232903e+07   6015700.0  23340000.0   2271900.0  13328000.0  27723000.0  1295600.0   24.6820       2.0\n",
       "612            sp|P63024|VAMP3_MOUSE  1.112018e+07   2605300.0  22097000.0   3207800.0  12741000.0  24207000.0  1863000.0  110.4200       3.0\n",
       "1709            sp|Q9CQW1|YKT6_MOUSE  9.497417e+06   3313900.0  18795000.0   2578400.0  10844000.0  19172000.0  2281200.0   38.9100       4.0\n",
       "1711            sp|Q9CQW9|IFM3_MOUSE  8.534028e+06   4405000.0  13901000.0   5483500.0  13652000.0  13214000.0   548670.0   10.8060       5.0\n",
       "1319  tr|A0A0J9YTY0|A0A0J9YTY0_MOUSE  4.908087e+06   1793900.0   9902200.0   1302300.0   4349200.0  11343000.0   757920.0  127.5700       6.0\n",
       "1379  tr|A0A0R4J1G9|A0A0R4J1G9_MOUSE  3.377193e+06   1734200.0   6784900.0   1624700.0   3975400.0   5764700.0   379260.0   36.6180       7.0\n",
       "2040          tr|Q924U4|Q924U4_MOUSE  2.428705e+06     57304.0   7757400.0   1689300.0    610120.0   2029400.0        0.0    4.5403       8.0\n",
       "967            sp|Q63918|CAVN2_MOUSE  2.308570e+06   2156100.0   3391100.0    154650.0   2936200.0   2904800.0        0.0  110.8600       9.0\n",
       "144            sp|O09044|SNP23_MOUSE  2.228165e+06   1408800.0   5738900.0    892600.0   2043000.0   3134500.0   151190.0   55.6360      10.0"
      ]
     },
     "execution_count": 15,
     "metadata": {},
     "output_type": "execute_result"
    }
   ],
   "source": [
    "#selection[['Bait_1','Bait_2','Bait_3']] = selection[['Bait_1','Bait_2','Bait_3']].replace(0,np.nan)\n",
    "#selection[['Bait_1','Bait_2','Bait_3']] = selection[['Bait_1','Bait_2','Bait_3']]/selection[['Bait_1','Bait_2','Bait_3']].median()\n",
    "only_bait['mean']=selection[bait_cols].replace(0,np.nan).mean(axis=1)\n",
    "to_look = only_bait.sort_values('mean', ascending=False).index.values\n",
    "temp = df.loc[to_look]\n",
    "temp=temp.join(selection[bait_cols])\n",
    "temp['mean']=temp[bait_cols].replace(0,np.nan).mean(axis=1,skipna=True)\n",
    "temp['exp_rank']=temp['mean'].rank(ascending=False)\n",
    "\n",
    "temp[['Gene_id','mean']+bait_cols+['Score','exp_rank']].head(10)"
   ]
  },
  {
   "cell_type": "code",
   "execution_count": 16,
   "metadata": {},
   "outputs": [],
   "source": [
    "temp.to_csv('only_bait.csv')"
   ]
  },
  {
   "cell_type": "markdown",
   "metadata": {},
   "source": [
    "## Differential Abundance"
   ]
  },
  {
   "cell_type": "markdown",
   "metadata": {},
   "source": [
    "### ProtRank indata"
   ]
  },
  {
   "cell_type": "code",
   "execution_count": 18,
   "metadata": {},
   "outputs": [
    {
     "data": {
      "text/html": [
       "<div>\n",
       "<style scoped>\n",
       "    .dataframe tbody tr th:only-of-type {\n",
       "        vertical-align: middle;\n",
       "    }\n",
       "\n",
       "    .dataframe tbody tr th {\n",
       "        vertical-align: top;\n",
       "    }\n",
       "\n",
       "    .dataframe thead th {\n",
       "        text-align: right;\n",
       "    }\n",
       "</style>\n",
       "<table border=\"1\" class=\"dataframe\">\n",
       "  <thead>\n",
       "    <tr style=\"text-align: right;\">\n",
       "      <th></th>\n",
       "      <th>E1_24</th>\n",
       "      <th>E2_24</th>\n",
       "      <th>E3_24</th>\n",
       "      <th>E1_48</th>\n",
       "      <th>E2_48</th>\n",
       "      <th>E3_48</th>\n",
       "      <th>C1</th>\n",
       "      <th>C2</th>\n",
       "      <th>C3</th>\n",
       "    </tr>\n",
       "    <tr>\n",
       "      <th>Gene_id</th>\n",
       "      <th></th>\n",
       "      <th></th>\n",
       "      <th></th>\n",
       "      <th></th>\n",
       "      <th></th>\n",
       "      <th></th>\n",
       "      <th></th>\n",
       "      <th></th>\n",
       "      <th></th>\n",
       "    </tr>\n",
       "  </thead>\n",
       "  <tbody>\n",
       "    <tr>\n",
       "      <th>BACE1-BirA</th>\n",
       "      <td>60028000.0</td>\n",
       "      <td>90019000.0</td>\n",
       "      <td>17170000.0</td>\n",
       "      <td>56801000.0</td>\n",
       "      <td>31066000.0</td>\n",
       "      <td>1642500.0</td>\n",
       "      <td>44836.0</td>\n",
       "      <td>0.0</td>\n",
       "      <td>0.0</td>\n",
       "    </tr>\n",
       "    <tr>\n",
       "      <th>tr|E9PXY1|E9PXY1_MOUSE</th>\n",
       "      <td>61996.0</td>\n",
       "      <td>284160.0</td>\n",
       "      <td>60131.0</td>\n",
       "      <td>45297.0</td>\n",
       "      <td>177640.0</td>\n",
       "      <td>32438.0</td>\n",
       "      <td>305770.0</td>\n",
       "      <td>130720.0</td>\n",
       "      <td>82699.0</td>\n",
       "    </tr>\n",
       "    <tr>\n",
       "      <th>sp|A2A6A1|GPTC8_MOUSE</th>\n",
       "      <td>98221.0</td>\n",
       "      <td>147320.0</td>\n",
       "      <td>296710.0</td>\n",
       "      <td>133530.0</td>\n",
       "      <td>290080.0</td>\n",
       "      <td>161310.0</td>\n",
       "      <td>521370.0</td>\n",
       "      <td>350320.0</td>\n",
       "      <td>129860.0</td>\n",
       "    </tr>\n",
       "    <tr>\n",
       "      <th>sp|A2A6Q5|CDC27_MOUSE</th>\n",
       "      <td>95003.0</td>\n",
       "      <td>49881.0</td>\n",
       "      <td>46209.0</td>\n",
       "      <td>52316.0</td>\n",
       "      <td>0.0</td>\n",
       "      <td>0.0</td>\n",
       "      <td>40880.0</td>\n",
       "      <td>0.0</td>\n",
       "      <td>0.0</td>\n",
       "    </tr>\n",
       "    <tr>\n",
       "      <th>tr|F6VYE2|F6VYE2_MOUSE</th>\n",
       "      <td>11631.0</td>\n",
       "      <td>46225.0</td>\n",
       "      <td>20071.0</td>\n",
       "      <td>25020.0</td>\n",
       "      <td>42658.0</td>\n",
       "      <td>5042.1</td>\n",
       "      <td>28655.0</td>\n",
       "      <td>31074.0</td>\n",
       "      <td>25978.0</td>\n",
       "    </tr>\n",
       "  </tbody>\n",
       "</table>\n",
       "</div>"
      ],
      "text/plain": [
       "                             E1_24       E2_24       E3_24       E1_48       E2_48      E3_48        C1        C2        C3\n",
       "Gene_id                                                                                                                    \n",
       "BACE1-BirA              60028000.0  90019000.0  17170000.0  56801000.0  31066000.0  1642500.0   44836.0       0.0       0.0\n",
       "tr|E9PXY1|E9PXY1_MOUSE     61996.0    284160.0     60131.0     45297.0    177640.0    32438.0  305770.0  130720.0   82699.0\n",
       "sp|A2A6A1|GPTC8_MOUSE      98221.0    147320.0    296710.0    133530.0    290080.0   161310.0  521370.0  350320.0  129860.0\n",
       "sp|A2A6Q5|CDC27_MOUSE      95003.0     49881.0     46209.0     52316.0         0.0        0.0   40880.0       0.0       0.0\n",
       "tr|F6VYE2|F6VYE2_MOUSE     11631.0     46225.0     20071.0     25020.0     42658.0     5042.1   28655.0   31074.0   25978.0"
      ]
     },
     "execution_count": 18,
     "metadata": {},
     "output_type": "execute_result"
    }
   ],
   "source": [
    "indata_prank=selection.join(df[['Gene_id']],how='left')\n",
    "indata_prank.set_index('Gene_id',drop=True,inplace=True)\n",
    "indata_prank=indata_prank\n",
    "indata_prank.to_csv(os.path.join(TXT_PATH, 'indata_ProtRank.csv'))\n",
    "indata_prank.head()"
   ]
  },
  {
   "cell_type": "code",
   "execution_count": 19,
   "metadata": {},
   "outputs": [
    {
     "data": {
      "text/plain": [
       "Index(['E1_24', 'E2_24', 'E3_24', 'E1_48', 'E2_48', 'E3_48', 'C1', 'C2', 'C3'], dtype='object')"
      ]
     },
     "execution_count": 19,
     "metadata": {},
     "output_type": "execute_result"
    }
   ],
   "source": [
    "indata_prank.columns"
   ]
  },
  {
   "cell_type": "markdown",
   "metadata": {},
   "source": [
    "### ProtRank Test"
   ]
  },
  {
   "cell_type": "code",
   "execution_count": 20,
   "metadata": {},
   "outputs": [
    {
     "name": "stdout",
     "output_type": "stream",
     "text": [
      "\n",
      "input data contain results for 1598 proteins and 9 different conditions\n",
      "list of measured conditions: E1_24, E2_24, E3_24, E1_48, E2_48, E3_48, C1, C2, C3\n",
      "in the data, 25.9% of all counts are zeros\n",
      "\n",
      "basic statistics for the subset of the data corresponding to the provided comparisons:\n",
      "6 comparisons provided: [[['C1', 'E1_24'], ['C2', 'E2_24'], ['C3', 'E3_24']]]\n",
      "after ignoring 33 rows with only zero counts, 1565 rows remain\n",
      "in the analyzed data, 24.1% of all counts are zeros\n",
      "median count is 5.85e+05 (computed over non-zero entries only)\n",
      "ratio between the largest and the smallest non-zero count is 3.33e+06\n",
      "ratio between the 90th and the 10th percentile non-zero count is 1.39e+02\n",
      "statistics of irregular missing values:\n",
      "  in total, there are 1154 comparisons involving a zero and a non-zero value (24.6% of all)\n",
      "  out of 4695 comparisons, 243 involve a zero value and a non-zero exceeding 1.0 * median (5.2% of all)\n",
      "  (the smaller the fraction, the smaller the problem with irregular zeros in the data)\n",
      "\n",
      "there are 1 groups of comparisons provided, they contain the following number of pairs: [3]\n",
      "in total, 3 comparisons will be included in the analysis\n",
      "for the given comparisons, 1598 rows with at least one nonzero count remain\n",
      "100 bootstrap realizations: 1 2 3 4 5 6 7 8 9 10 11 12 13 14 15 16 17 18 19 20 21 22 23 24 25 26 27 28 29 30 31 32 33 34 35 36 37 38 39 40 41 42 43 44 45 46 47 48 49 50 51 52 53 54 55 56 57 58 59 60 61 62 63 64 65 66 67 68 69 70 71 72 73 74 75 76 77 78 79 80 81 82 83 84 85 86 87 88 89 90 91 92 93 94 95 96 97 98 99 100 \n",
      "bait_vs_control_24: there are 50 proteins that have FDR 0.1 or less\n"
     ]
    }
   ],
   "source": [
    "what_to_compare = [[\n",
    "    ['C1', 'E1_24'], \n",
    "    ['C2', 'E2_24' ], \n",
    "    ['C3', 'E3_24' ],                  \n",
    "                   ]]\n",
    "ProtRank.data_stats(indata_prank, what_to_compare = what_to_compare)\n",
    "description = 'bait_vs_control_24'\n",
    "significant_proteins = ProtRank.rank_proteins(\n",
    "    indata_prank+indata_prank[indata_prank>0].min(), \n",
    "    what_to_compare, description,\n",
    "    path_to=TXT_PATH,num_bootstrap_realizations=100)"
   ]
  },
  {
   "cell_type": "code",
   "execution_count": 21,
   "metadata": {},
   "outputs": [
    {
     "name": "stdout",
     "output_type": "stream",
     "text": [
      "\n",
      "input data contain results for 1598 proteins and 9 different conditions\n",
      "list of measured conditions: E1_24, E2_24, E3_24, E1_48, E2_48, E3_48, C1, C2, C3\n",
      "in the data, 25.9% of all counts are zeros\n",
      "\n",
      "basic statistics for the subset of the data corresponding to the provided comparisons:\n",
      "6 comparisons provided: [[['C1', 'E1_48'], ['C2', 'E2_48'], ['C3', 'E3_48']]]\n",
      "after ignoring 95 rows with only zero counts, 1503 rows remain\n",
      "in the analyzed data, 23.0% of all counts are zeros\n",
      "median count is 5.89e+05 (computed over non-zero entries only)\n",
      "ratio between the largest and the smallest non-zero count is 2.71e+06\n",
      "ratio between the 90th and the 10th percentile non-zero count is 1.44e+02\n",
      "statistics of irregular missing values:\n",
      "  in total, there are 976 comparisons involving a zero and a non-zero value (21.6% of all)\n",
      "  out of 4509 comparisons, 163 involve a zero value and a non-zero exceeding 1.0 * median (3.6% of all)\n",
      "  (the smaller the fraction, the smaller the problem with irregular zeros in the data)\n",
      "\n",
      "there are 1 groups of comparisons provided, they contain the following number of pairs: [3]\n",
      "in total, 3 comparisons will be included in the analysis\n",
      "for the given comparisons, 1598 rows with at least one nonzero count remain\n",
      "100 bootstrap realizations: 1 2 3 4 5 6 7 8 9 10 11 12 13 14 15 16 17 18 19 20 21 22 23 24 25 26 27 28 29 30 31 32 33 34 35 36 37 38 39 40 41 42 43 44 45 46 47 48 49 50 51 52 53 54 55 56 57 58 59 60 61 62 63 64 65 66 67 68 69 70 71 72 73 74 75 76 77 78 79 80 81 82 83 84 85 86 87 88 89 90 91 92 93 94 95 96 97 98 99 100 \n",
      "bait_vs_control_48: there are 32 proteins that have FDR 0.1 or less\n"
     ]
    }
   ],
   "source": [
    "what_to_compare = [[\n",
    "    ['C1', 'E1_48'], \n",
    "    ['C2', 'E2_48' ], \n",
    "    ['C3', 'E3_48' ], \n",
    "                   ]]\n",
    "ProtRank.data_stats(indata_prank, what_to_compare = what_to_compare)\n",
    "description = 'bait_vs_control_48'\n",
    "significant_proteins = ProtRank.rank_proteins(\n",
    "    indata_prank+indata_prank[indata_prank>0].min(), \n",
    "    what_to_compare, description,\n",
    "    path_to=TXT_PATH,num_bootstrap_realizations=100)"
   ]
  },
  {
   "cell_type": "markdown",
   "metadata": {},
   "source": [
    "### Table 24h"
   ]
  },
  {
   "cell_type": "code",
   "execution_count": 22,
   "metadata": {},
   "outputs": [],
   "source": [
    "res_24 = pd.read_csv(os.path.join(TXT_PATH,'prs-bait_vs_control_24.dat'),\n",
    "                   sep='\\t', comment='#', index_col=[0],\n",
    "                   names=['Gene_id','rank','FDR','sign'])\n",
    "res_24['log_FDR']=-np.log10(res_24['FDR']+0.001)\n",
    "res_24['log_rank']=np.log10(res_24['rank'])\n",
    "res_24['srank']=[n*1 if a=='+' else n*-1 for n,a in zip(res_24['rank'],res_24['sign'])]\n",
    "res_24=res_24.merge(df,left_on='Gene_id',right_on='Gene_id',how='left')\n",
    "#temp_1=temp_1.merge(aboundance_df,left_on='Gene_id',right_on='Gene ID',how='left')\n",
    "res_24['exp_rank']=res_24['rank'].rank(ascending=False)\n",
    "res_24.to_csv('res_24.csv')"
   ]
  },
  {
   "cell_type": "markdown",
   "metadata": {},
   "source": [
    "### Table 48h"
   ]
  },
  {
   "cell_type": "code",
   "execution_count": 24,
   "metadata": {},
   "outputs": [],
   "source": [
    "res_48 = pd.read_csv(os.path.join(TXT_PATH,'prs-bait_vs_control_48.dat'),\n",
    "                   sep='\\t', comment='#', index_col=[0],\n",
    "                   names=['Gene_id','rank','FDR','sign'])\n",
    "res_48['log_FDR']=-np.log10(res_48['FDR']+0.001)\n",
    "res_48['log_rank']=np.log10(res_48['rank'])\n",
    "res_48['srank']=[n*1 if a=='+' else n*-1 for n,a in zip(res_48['rank'],res_48['sign'])]\n",
    "res_48=res_48.merge(df,left_on='Gene_id',right_on='Gene_id',how='left')\n",
    "#temp_1=temp_1.merge(aboundance_df,left_on='Gene_id',right_on='Gene ID',how='left')\n",
    "res_48['exp_rank']=res_48['rank'].rank(ascending=False)\n",
    "res_48.to_csv('res_48.csv')"
   ]
  },
  {
   "cell_type": "code",
   "execution_count": null,
   "metadata": {},
   "outputs": [],
   "source": []
  },
  {
   "cell_type": "code",
   "execution_count": 25,
   "metadata": {},
   "outputs": [
    {
     "data": {
      "text/plain": [
       "(7.480314960629921, 3.7401574803149606)"
      ]
     },
     "execution_count": 25,
     "metadata": {},
     "output_type": "execute_result"
    }
   ],
   "source": [
    "def cm2inch(*tupl):\n",
    "    inch = 2.54\n",
    "    if isinstance(tupl[0], tuple):\n",
    "        return tuple(i/inch for i in tupl[0])\n",
    "    else:\n",
    "        return tuple(i/inch for i in tupl)\n",
    "cm2inch(19, 9.5)"
   ]
  },
  {
   "cell_type": "code",
   "execution_count": 26,
   "metadata": {},
   "outputs": [],
   "source": [
    "name_dict = {\n",
    "    'Q5SS83': 'FLOT2',\n",
    "    'A0A0J9YTY0':'SEPT6',\n",
    "    'A0A0R4J1G9':'STEA3',\n",
    "    'E9Q616':'Ahnak'\n",
    "}"
   ]
  },
  {
   "cell_type": "markdown",
   "metadata": {},
   "source": [
    "## Fig1 Top Interacting Proteins"
   ]
  },
  {
   "cell_type": "code",
   "execution_count": 27,
   "metadata": {},
   "outputs": [
    {
     "data": {
      "text/plain": [
       "0      -0.000\n",
       "1      -0.000\n",
       "2      -0.000\n",
       "3      -0.000\n",
       "4      -0.002\n",
       "        ...  \n",
       "1593   -1.000\n",
       "1594   -1.000\n",
       "1595   -1.000\n",
       "1596   -1.000\n",
       "1597   -1.000\n",
       "Name: FDR, Length: 1598, dtype: float64"
      ]
     },
     "execution_count": 27,
     "metadata": {},
     "output_type": "execute_result"
    }
   ],
   "source": [
    "res_48['FDR']=res_48['FDR']*-1\n",
    "res_48['FDR']"
   ]
  },
  {
   "cell_type": "code",
   "execution_count": 28,
   "metadata": {},
   "outputs": [
    {
     "data": {
      "text/plain": [
       "0      -0.00000\n",
       "1      -0.00000\n",
       "2      -0.00000\n",
       "3      -0.00000\n",
       "4      -0.00000\n",
       "         ...   \n",
       "1593   -0.99965\n",
       "1594   -0.99965\n",
       "1595   -0.99965\n",
       "1596   -0.99965\n",
       "1597   -0.99965\n",
       "Name: FDR, Length: 1598, dtype: float64"
      ]
     },
     "execution_count": 28,
     "metadata": {},
     "output_type": "execute_result"
    }
   ],
   "source": [
    "res_24['FDR']=res_24['FDR']*-1\n",
    "res_24['FDR']"
   ]
  },
  {
   "cell_type": "code",
   "execution_count": 29,
   "metadata": {},
   "outputs": [
    {
     "name": "stdout",
     "output_type": "stream",
     "text": [
      "7\n",
      "7\n",
      "no selection\n"
     ]
    },
    {
     "name": "stderr",
     "output_type": "stream",
     "text": [
      "No handles with labels found to put in legend.\n"
     ]
    },
    {
     "name": "stdout",
     "output_type": "stream",
     "text": [
      "7\n",
      "7\n",
      "no selection\n"
     ]
    },
    {
     "name": "stderr",
     "output_type": "stream",
     "text": [
      "No handles with labels found to put in legend.\n"
     ]
    },
    {
     "data": {
      "image/png": "[encoded data removed]",
      "text/plain": [
       "<Figure size 748x374 with 2 Axes>"
      ]
     },
     "metadata": {},
     "output_type": "display_data"
    }
   ],
   "source": [
    "#ax.spines['left'].set_bounds(ymin+small_add, ymax)\n",
    "\n",
    "#xmin, xmax = ax.get_xlim()\n",
    "#ax.set_xlim(xmin,xmax)\n",
    "\n",
    "#ax.spines['bottom'].set_bounds(xmin+0.5, xmax)\n",
    "fontProperties = {'family':'Arial',\n",
    "    'weight' : 'normal', 'size' : 7}\n",
    "fontProperties_names = {'family':'Arial',\n",
    "    'weight' : 'bold', 'size' : 7}\n",
    "\n",
    "plt.style.use('fivethirtyeight')\n",
    "plt.style.use('default')\n",
    "\n",
    "\n",
    "\n",
    "fig, axes=plt.subplots(figsize=(7.48,3.74), \n",
    "                     ncols=2, nrows=1)\n",
    "\n",
    "\n",
    "\n",
    "ids = res_24.sort_values('srank',ascending=False).head(7)\n",
    "_ids = ids.index.values\n",
    "_names = [n.split('|')[-1].replace('_MOUSE','') for n in ids['Gene_id'].values]\n",
    "_names = [name_dict.get(n,n) for n in _names]\n",
    "print(len(_ids))\n",
    "print(len(_names))\n",
    "ax=axes[0]\n",
    "PTUT.make_vulcano(res_24, ax, x='srank', y='FDR', \n",
    "             annot_index=_ids,\n",
    "             annot_names = _names,\n",
    "             title='',\n",
    "             #fc_limit=70,\n",
    "             fc_col='log_rank',\n",
    "                  alpha_main=0.3,\n",
    "             point_size_selection=5,\n",
    "             point_size_all=5,\n",
    "            text_size=8,\n",
    "                  fontdict=fontProperties_names,\n",
    "                  expand_points=(1, 1),\n",
    "                expand_text=(1.5, 1.5)\n",
    "            )\n",
    "\n",
    "ax.set_title('BACE1 24h')\n",
    "ax.set_xlabel('Enrichment Rank',fontdict=fontProperties_names)\n",
    "ax.set_ylabel('FDR',fontdict=fontProperties_names)\n",
    "#ax.legend(loc='upper center', bbox_to_anchor=(1.1, 0.9),\n",
    "#          title='Legend')\n",
    "#ax.yaxis.label.set_size(18)\n",
    "#ax.xaxis.label.set_size(18)\n",
    "ax.title.set_size(12)\n",
    "ax.tick_params(axis='both', which='major', labelsize=7)\n",
    "\n",
    "\n",
    "\n",
    "\n",
    "temp_xticks=[int(n) for n in np.arange(-50,550,50)]\n",
    "ax.set_xticks(temp_xticks)\n",
    "ax.set_xticklabels(temp_xticks, fontProperties)\n",
    "\n",
    "ax.set_yticks([round(n,2) for n in np.arange(-1,0.1,0.1)[::-1]])\n",
    "\n",
    "ax.set_yticklabels([str(round(n,2)*-1) for n in np.arange(-1,0.1,0.1)[::-1]], fontProperties)\n",
    "\n",
    "ax.spines['top'].set_color('none')\n",
    "ax.spines['right'].set_color('none')\n",
    "xmin, xmax = ax.get_xlim()\n",
    "ax.spines['bottom'].set_bounds(-50, 500)\n",
    "ymin, ymax = ax.get_ylim()\n",
    "ax.spines['left'].set_bounds(-1, 0)\n",
    "\n",
    "ax.text(-0.1, 1, 'A)', horizontalalignment='center', \n",
    "               verticalalignment='center',\n",
    "               transform=ax.transAxes,fontsize=12)\n",
    "\n",
    "\n",
    "ax=axes[1]\n",
    "ids = res_48.sort_values('srank',ascending=False).head(7)\n",
    "_ids = ids.index.values\n",
    "_names = [n.split('|')[-1].replace('_MOUSE','') for n in ids['Gene_id'].values]\n",
    "_names = [name_dict.get(n,n) for n in _names]\n",
    "print(len(_ids))\n",
    "print(len(_names))\n",
    "\n",
    "PTUT.make_vulcano(res_48, ax, x='srank', y='FDR', \n",
    "             annot_index=_ids,\n",
    "             annot_names = _names,\n",
    "             title='',\n",
    "             #fc_limit=70,\n",
    "             fc_col='log_rank',\n",
    "                  alpha_main=0.3,\n",
    "             point_size_selection=5,\n",
    "             point_size_all=5,\n",
    "            text_size=8,\n",
    "                  fontdict=fontProperties_names,\n",
    "                  expand_points=(1, 1),\n",
    "                expand_text=(1.5, 1.5)\n",
    "            )\n",
    "\n",
    "ax.set_title('BACE1 48h')\n",
    "ax.set_xlabel('Enrichment Rank',fontdict=fontProperties_names)\n",
    "ax.set_ylabel('FDR',fontdict=fontProperties_names)\n",
    "#ax.legend(loc='upper center', bbox_to_anchor=(1.1, 0.9),\n",
    "#          title='Legend')\n",
    "#ax.yaxis.label.set_size(18)\n",
    "#ax.xaxis.label.set_size(18)\n",
    "ax.title.set_size(12)\n",
    "ax.tick_params(axis='both', which='major', labelsize=7)\n",
    "\n",
    "\n",
    "\n",
    "\n",
    "temp_xticks=[int(n) for n in np.arange(-50,550,50)]\n",
    "ax.set_xticks(temp_xticks)\n",
    "ax.set_xticklabels(temp_xticks, fontProperties)\n",
    "\n",
    "ax.set_yticks([round(n,2) for n in np.arange(-1,0.1,0.1)[::-1]])\n",
    "\n",
    "ax.set_yticklabels([str(round(n,2)*-1) for n in np.arange(-1,0.1,0.1)[::-1]], fontProperties)\n",
    "\n",
    "ax.spines['top'].set_color('none')\n",
    "ax.spines['right'].set_color('none')\n",
    "xmin, xmax = ax.get_xlim()\n",
    "ax.spines['bottom'].set_bounds(-50, 500)\n",
    "ymin, ymax = ax.get_ylim()\n",
    "ax.spines['left'].set_bounds(-1, 0)\n",
    "\n",
    "ax.text(-0.1, 1, 'B)', horizontalalignment='center', \n",
    "               verticalalignment='center',\n",
    "               transform=ax.transAxes,fontsize=12)\n",
    "\n",
    "\n",
    "\n",
    "\n",
    "\n",
    "\n",
    "plt.tight_layout()\n",
    "plt.savefig('Fig1.svg')\n",
    "\n",
    "plt.savefig('Fig1.png')\n",
    "plt.show()\n",
    "\n",
    "#w 190 mm \n",
    "#h 95 mm \n",
    "#font 7pt and Arial\n",
    "#x/y axes annotation Arial 7pt bold\n",
    "#top 10"
   ]
  },
  {
   "cell_type": "code",
   "execution_count": 30,
   "metadata": {},
   "outputs": [
    {
     "data": {
      "text/plain": [
       "([9, 17, 72, 12], [21, 20, 57, 12])"
      ]
     },
     "execution_count": 30,
     "metadata": {},
     "output_type": "execute_result"
    }
   ],
   "source": [
    "list_genes_24= []\n",
    "for n in ['BASI','EPHA2_MOUSE','FLOT2_MOUSE','ZDH20_MOUSE']:\n",
    "    temp = res_24[res_24['Protein IDs'].str.contains(n)]\n",
    "    list_genes_24.append(temp.index.values[0])           \n",
    "\n",
    "list_genes_48= []\n",
    "for n in ['BASI','EPHA2_MOUSE','FLOT2_MOUSE','ZDH20_MOUSE']:\n",
    "    temp = res_48[res_48['Protein IDs'].str.contains(n)]\n",
    "    list_genes_48.append(temp.index.values[0])           \n",
    "list_genes_48, list_genes_24   \n"
   ]
  },
  {
   "cell_type": "markdown",
   "metadata": {},
   "source": [
    "## Fig2 Literature Partners"
   ]
  },
  {
   "cell_type": "code",
   "execution_count": 31,
   "metadata": {},
   "outputs": [
    {
     "name": "stdout",
     "output_type": "stream",
     "text": [
      "4\n",
      "4\n",
      "no selection\n"
     ]
    },
    {
     "name": "stderr",
     "output_type": "stream",
     "text": [
      "No handles with labels found to put in legend.\n"
     ]
    },
    {
     "name": "stdout",
     "output_type": "stream",
     "text": [
      "4\n",
      "4\n",
      "no selection\n"
     ]
    },
    {
     "name": "stderr",
     "output_type": "stream",
     "text": [
      "No handles with labels found to put in legend.\n"
     ]
    },
    {
     "data": {
      "image/png": "[encoded data removed]",
      "text/plain": [
       "<Figure size 748x374 with 2 Axes>"
      ]
     },
     "metadata": {},
     "output_type": "display_data"
    }
   ],
   "source": [
    "#ax.spines['left'].set_bounds(ymin+small_add, ymax)\n",
    "\n",
    "#xmin, xmax = ax.get_xlim()\n",
    "#ax.set_xlim(xmin,xmax)\n",
    "\n",
    "#ax.spines['bottom'].set_bounds(xmin+0.5, xmax)\n",
    "fontProperties = {'family':'Arial',\n",
    "    'weight' : 'normal', 'size' : 7}\n",
    "fontProperties_names = {'family':'Arial',\n",
    "    'weight' : 'bold', 'size' : 7}\n",
    "\n",
    "plt.style.use('fivethirtyeight')\n",
    "plt.style.use('default')\n",
    "\n",
    "\n",
    "\n",
    "fig, axes=plt.subplots(figsize=(7.48,3.74), \n",
    "                     ncols=2, nrows=1)\n",
    "\n",
    "\n",
    "\n",
    "ids = res_24.iloc[list_genes_24]\n",
    "_ids = ids.index.values\n",
    "_names = [n.split('|')[-1].replace('_MOUSE','') for n in ids['Gene_id'].values]\n",
    "_names = [name_dict.get(n,n) for n in _names]\n",
    "print(len(_ids))\n",
    "print(len(_names))\n",
    "ax=axes[0]\n",
    "PTUT.make_vulcano(res_24, ax, x='srank', y='FDR', \n",
    "             annot_index=_ids,\n",
    "             annot_names = _names,\n",
    "             title='',\n",
    "             #fc_limit=70,\n",
    "             fc_col='log_rank',\n",
    "                  alpha_main=0.3,\n",
    "             point_size_selection=5,\n",
    "             point_size_all=5,\n",
    "            text_size=8,\n",
    "                  fontdict=fontProperties_names,\n",
    "                  expand_points=(1, 1),\n",
    "                expand_text=(1.5, 1.5)\n",
    "            )\n",
    "\n",
    "ax.set_title('BACE1 24h')\n",
    "ax.set_xlabel('Enrichment Rank',fontdict=fontProperties_names)\n",
    "ax.set_ylabel('FDR',fontdict=fontProperties_names)\n",
    "#ax.legend(loc='upper center', bbox_to_anchor=(1.1, 0.9),\n",
    "#          title='Legend')\n",
    "#ax.yaxis.label.set_size(18)\n",
    "#ax.xaxis.label.set_size(18)\n",
    "ax.title.set_size(12)\n",
    "ax.tick_params(axis='both', which='major', labelsize=7)\n",
    "\n",
    "\n",
    "\n",
    "\n",
    "temp_xticks=[int(n) for n in np.arange(-50,550,50)]\n",
    "ax.set_xticks(temp_xticks)\n",
    "ax.set_xticklabels(temp_xticks, fontProperties)\n",
    "\n",
    "\n",
    "\n",
    "\n",
    "\n",
    "\n",
    "ax.set_yticks([round(n,2) for n in np.arange(-1,0.1,0.1)[::-1]])\n",
    "\n",
    "ax.set_yticklabels([str(round(n,2)*-1) for n in np.arange(-1,0.1,0.1)[::-1]], fontProperties)\n",
    "\n",
    "ax.spines['top'].set_color('none')\n",
    "ax.spines['right'].set_color('none')\n",
    "xmin, xmax = ax.get_xlim()\n",
    "ax.spines['bottom'].set_bounds(-50, 500)\n",
    "ymin, ymax = ax.get_ylim()\n",
    "ax.spines['left'].set_bounds(-1, 0)\n",
    "\n",
    "ax.text(-0.1, 1, 'A)', horizontalalignment='center', \n",
    "               verticalalignment='center',\n",
    "               transform=ax.transAxes,fontsize=12)\n",
    "\n",
    "\n",
    "ax=axes[1]\n",
    "ids = res_48.iloc[list_genes_48]\n",
    "_ids = ids.index.values\n",
    "_names = [n.split('|')[-1].replace('_MOUSE','') for n in ids['Gene_id'].values]\n",
    "_names = [name_dict.get(n,n) for n in _names]\n",
    "print(len(_ids))\n",
    "print(len(_names))\n",
    "\n",
    "PTUT.make_vulcano(res_48, ax, x='srank', y='FDR', \n",
    "             annot_index=_ids,\n",
    "             annot_names = _names,\n",
    "             title='',\n",
    "             #fc_limit=70,\n",
    "             fc_col='log_rank',\n",
    "                  alpha_main=0.3,\n",
    "             point_size_selection=5,\n",
    "             point_size_all=5,\n",
    "            text_size=8,\n",
    "                  fontdict=fontProperties_names,\n",
    "                  expand_points=(1, 1),\n",
    "                expand_text=(1.5, 1.5)\n",
    "            )\n",
    "\n",
    "ax.set_title('BACE1 48h')\n",
    "ax.set_xlabel('Enrichment Rank',fontdict=fontProperties_names)\n",
    "ax.set_ylabel('FDR',fontdict=fontProperties_names)\n",
    "#ax.legend(loc='upper center', bbox_to_anchor=(1.1, 0.9),\n",
    "#          title='Legend')\n",
    "#ax.yaxis.label.set_size(18)\n",
    "#ax.xaxis.label.set_size(18)\n",
    "ax.title.set_size(12)\n",
    "ax.tick_params(axis='both', which='major', labelsize=7)\n",
    "\n",
    "\n",
    "\n",
    "\n",
    "temp_xticks=[int(n) for n in np.arange(-50,550,50)]\n",
    "ax.set_xticks(temp_xticks)\n",
    "ax.set_xticklabels(temp_xticks, fontProperties)\n",
    "\n",
    "ax.set_yticks([round(n,2) for n in np.arange(-1,0.1,0.1)[::-1]])\n",
    "\n",
    "ax.set_yticklabels([str(round(n,2)*-1) for n in np.arange(-1,0.1,0.1)[::-1]], fontProperties)\n",
    "\n",
    "ax.spines['top'].set_color('none')\n",
    "ax.spines['right'].set_color('none')\n",
    "xmin, xmax = ax.get_xlim()\n",
    "ax.spines['bottom'].set_bounds(-50, 500)\n",
    "ymin, ymax = ax.get_ylim()\n",
    "ax.spines['left'].set_bounds(-1, 0)\n",
    "\n",
    "ax.text(-0.1, 1, 'B)', horizontalalignment='center', \n",
    "               verticalalignment='center',\n",
    "               transform=ax.transAxes,fontsize=12)\n",
    "\n",
    "\n",
    "\n",
    "\n",
    "\n",
    "\n",
    "plt.tight_layout()\n",
    "plt.savefig('Fig1.svg')\n",
    "\n",
    "plt.savefig('Fig1.png')\n",
    "plt.show()\n",
    "\n",
    "#w 190 mm \n",
    "#h 95 mm \n",
    "#font 7pt and Arial\n",
    "#x/y axes annotation Arial 7pt bold\n",
    "#top 10"
   ]
  },
  {
   "cell_type": "code",
   "execution_count": 42,
   "metadata": {},
   "outputs": [],
   "source": [
    "res_24['FDR']=res_24['FDR']*-1\n",
    "res_48['FDR']=res_48['FDR']*-1"
   ]
  },
  {
   "cell_type": "code",
   "execution_count": 32,
   "metadata": {},
   "outputs": [],
   "source": [
    "#not found\n",
    "#GGA2 (ADP-ribosylation factor-binding protein GGA2)"
   ]
  },
  {
   "cell_type": "code",
   "execution_count": 44,
   "metadata": {},
   "outputs": [
    {
     "name": "stdout",
     "output_type": "stream",
     "text": [
      "32 27 22\n"
     ]
    },
    {
     "data": {
      "image/png": "[encoded data removed]",
      "text/plain": [
       "<Figure size 400x400 with 1 Axes>"
      ]
     },
     "metadata": {},
     "output_type": "display_data"
    }
   ],
   "source": [
    "from matplotlib_venn import venn2, venn2_circles, venn2_unweighted\n",
    "from matplotlib_venn import venn3, venn3_circles\n",
    "import matplotlib.pyplot as plt\n",
    "import numpy as np\n",
    "from matplotlib.lines import Line2D\n",
    "def make_venn(ax,res_24,res_48):\n",
    "    #fig,ax = plt.subplots()\n",
    "    df_24 = res_24[(res_24['FDR']<0.1) & (res_24['sign']=='+')]['Gene_id']\n",
    "    df_48 = res_48[(res_48['FDR']<0.1) & (res_48['sign']=='+')]['Gene_id']\n",
    "    common = len(set(df_24)&set(df_48))\n",
    "    print(df_24.shape[0],df_48.shape[0],common)\n",
    "    venn2(subsets = (df_24.shape[0]-common, \n",
    "                     df_48.shape[0]-common, \n",
    "                     common ), \n",
    "          set_labels = ('24h', '48h'), ax=ax)\n",
    "\n",
    "fig,ax=plt.subplots(figsize=(4,4))\n",
    "make_venn(ax,res_24,res_48)\n",
    "plt.title('Venn')\n",
    "fig.savefig('venn.png')\n",
    "plt.show()"
   ]
  },
  {
   "cell_type": "markdown",
   "metadata": {},
   "source": [
    "## Fig1 Interactive"
   ]
  },
  {
   "cell_type": "code",
   "execution_count": 45,
   "metadata": {},
   "outputs": [],
   "source": [
    "import plotly.express as px\n",
    "from plotly.subplots import make_subplots\n",
    "\n",
    "\n",
    "\n",
    "fig1 = px.scatter(res_24, x='srank', y='log_FDR', #color=\"log_FDR\",\n",
    "                 #title='PIGA interacting partners',\n",
    "                 width=800, height=600,\n",
    "                 hover_name=\"Gene_id\", hover_data=[\"desc\"],\n",
    "                 #color_continuous_scale='Bluered',#px.colors.sequential.Viridis,\n",
    "                )\n",
    "\n",
    "\n",
    "fig2 = px.scatter(res_48, x='srank', y='log_FDR', #color=\"log_FDR\",\n",
    "                 #title='PIGA interacting partners',\n",
    "                 width=800, height=600,\n",
    "                 hover_name=\"Gene_id\", hover_data=[\"desc\"],\n",
    "                 #color_continuous_scale='Bluered',#px.colors.sequential.Viridis,\n",
    "                )\n",
    "\n",
    "\n",
    "\n",
    "trace1 = fig1['data'][0]\n",
    "trace2 = fig2['data'][0]\n",
    "\n",
    "fig = make_subplots(rows=1, cols=2, shared_xaxes=False,shared_yaxes=False)\n",
    "fig.add_trace(trace1, row=1, col=1)\n",
    "fig.add_trace(trace2, row=1, col=2)\n",
    "\n",
    "fig.layout[\"xaxis\"].title.text = \"Experiment Rank\"\n",
    "fig.layout[\"xaxis2\"].title.text = \"Experiment Rank\"\n",
    "fig.layout[\"yaxis\"].title.text = \"Log10 FDR\"\n",
    "fig.layout[\"yaxis2\"].title.text = \"Log10 FDR\"\n",
    "fig.update_layout(title_text='BACE1 Interacting Partners')\n",
    "#fig.show()\n",
    "fig.write_html(\"BACE1.html\")"
   ]
  },
  {
   "cell_type": "code",
   "execution_count": 46,
   "metadata": {},
   "outputs": [
    {
     "data": {
      "text/html": [
       "\n",
       "        <iframe\n",
       "            width=\"1000\"\n",
       "            height=\"600\"\n",
       "            src=\"BACE1.html\"\n",
       "            frameborder=\"0\"\n",
       "            allowfullscreen\n",
       "        ></iframe>\n",
       "        "
      ],
      "text/plain": [
       "<IPython.lib.display.IFrame at 0x1299db220>"
      ]
     },
     "execution_count": 46,
     "metadata": {},
     "output_type": "execute_result"
    }
   ],
   "source": [
    "from IPython.display import IFrame\n",
    "IFrame(\"BACE1.html\", width=1000, height=600)"
   ]
  },
  {
   "cell_type": "markdown",
   "metadata": {},
   "source": [
    "## Find BACE1-BirA Coverage"
   ]
  },
  {
   "cell_type": "code",
   "execution_count": 47,
   "metadata": {},
   "outputs": [
    {
     "data": {
      "text/plain": [
       "'MAQALPWLLLWMGAGVLPAHGTQHGIRLPLRSGLGGAPLGLRLPRETDEEPEEPGRRGSFVEMVDNLRGKSGQGYYVEMTVGSPPQTLNILVDTGSSNFAVGAAPHPFLHRYYQRQLSSTYRDLRKGVYVPYTQGKWEGELGTDLVSIPHGPNVTVRANIAAITESDKFFINGSNWEGILGLAYAEIARPDDSLEPFFDSLVKQTHVPNLFSLQLCGAGFPLNQSEVLASVGGSMIIGGIDHSLYTGSLWYTPIRREWYYEVIIVRVEINGQDLKMDCKEYNYDKSIVDSGTTNLRLPKKVFEAAVKSIKAASSTEKFPDGFWLGEQLVCWQAGTTPWNIFPVISLYLMGEVTNQSFRITILPQQYLRPVEDVATSQDDCYKFAISQSSTGTVMGAVIMEGFYVVFDRARKRIGFAVSACHVHDEFRTAAVEGPFVTLDMEDCGYNIPQTDESTLMTIAYVMAAICALFMLPLCLMVCQWRCLRCLRQQHDDFADDISLLKGGSGGSKDNTVPLKLIALLANGEFHSGEQLGETLGMSRAAINKHIQTLRDWGVDVFTVPGKGYSLPEPIQLLNAKQILGQLDGGSVAVLPVIDSTNQYLLDRIGELKSGDACIAEYQQAGRGGRGRKWFSPFGANLYLSMFWRLEQGPAAAIGLSLVIGIVMAEVLRKLGADKVRVKWPNDLYLQDRKLAGILVELTGKTGDAAQIVIGAGINMAMRRVEESVVNQGWITLQEAGINLDRNTLAAMLIRELRAALELFEQEGLAPYLSRWEKLDNFINRPVKLIIGDKEIFGISRGIDKQGALLLEQDGIIKPWMGGEISLRSAEKA'"
      ]
     },
     "execution_count": 47,
     "metadata": {},
     "output_type": "execute_result"
    }
   ],
   "source": [
    "from Bio import SeqIO\n",
    "seq_dict = {}\n",
    "for seq_record in SeqIO.parse(\"database/bait.fa\", \"fasta\"):\n",
    "    seq_dict[seq_record.id.split(':')[0]]=str(seq_record.seq)\n",
    "seq_dict['BACE1-BirA']"
   ]
  },
  {
   "cell_type": "code",
   "execution_count": 50,
   "metadata": {},
   "outputs": [
    {
     "data": {
      "text/plain": [
       "'55;60;791;2012;2388;2838;2839;2975;4022;4428;4688;6366;6434;6842;6999;7399;7439;9629;9986;10060;10179;10180;10277;10550;10603;10844;11223;11249;11364;11365;12408;13294;13317;13362;13654;13655;14440;14442;14496'"
      ]
     },
     "execution_count": 50,
     "metadata": {},
     "output_type": "execute_result"
    }
   ],
   "source": [
    "#identified peptides\n",
    "df[df['Majority protein IDs'].isin(['BACE1-BirA'])]['Peptide IDs'][0]"
   ]
  },
  {
   "cell_type": "code",
   "execution_count": 51,
   "metadata": {},
   "outputs": [
    {
     "data": {
      "text/html": [
       "<div>\n",
       "<style scoped>\n",
       "    .dataframe tbody tr th:only-of-type {\n",
       "        vertical-align: middle;\n",
       "    }\n",
       "\n",
       "    .dataframe tbody tr th {\n",
       "        vertical-align: top;\n",
       "    }\n",
       "\n",
       "    .dataframe thead th {\n",
       "        text-align: right;\n",
       "    }\n",
       "</style>\n",
       "<table border=\"1\" class=\"dataframe\">\n",
       "  <thead>\n",
       "    <tr style=\"text-align: right;\">\n",
       "      <th></th>\n",
       "      <th>Sequence</th>\n",
       "      <th>N-term cleavage window</th>\n",
       "      <th>C-term cleavage window</th>\n",
       "      <th>Amino acid before</th>\n",
       "      <th>First amino acid</th>\n",
       "      <th>Second amino acid</th>\n",
       "      <th>Second last amino acid</th>\n",
       "      <th>Last amino acid</th>\n",
       "      <th>Amino acid after</th>\n",
       "      <th>A Count</th>\n",
       "      <th>...</th>\n",
       "      <th>MS/MS Count</th>\n",
       "      <th>LFQ intensity C1</th>\n",
       "      <th>LFQ intensity C2</th>\n",
       "      <th>LFQ intensity C3</th>\n",
       "      <th>LFQ intensity E1_24</th>\n",
       "      <th>LFQ intensity E1_48</th>\n",
       "      <th>LFQ intensity E2_24</th>\n",
       "      <th>LFQ intensity E2_48</th>\n",
       "      <th>LFQ intensity E3_24</th>\n",
       "      <th>LFQ intensity E3_48</th>\n",
       "    </tr>\n",
       "  </thead>\n",
       "  <tbody>\n",
       "    <tr>\n",
       "      <th>55</th>\n",
       "      <td>AAINKHIQTLR</td>\n",
       "      <td>FHSGEQLGETLGMSRAAINKHIQTLRDWGV</td>\n",
       "      <td>GMSRAAINKHIQTLRDWGVDVFTVPGKGYS</td>\n",
       "      <td>R</td>\n",
       "      <td>A</td>\n",
       "      <td>A</td>\n",
       "      <td>L</td>\n",
       "      <td>R</td>\n",
       "      <td>D</td>\n",
       "      <td>2</td>\n",
       "      <td>...</td>\n",
       "      <td>1</td>\n",
       "      <td>0</td>\n",
       "      <td>0</td>\n",
       "      <td>0</td>\n",
       "      <td>361090</td>\n",
       "      <td>0</td>\n",
       "      <td>0</td>\n",
       "      <td>0</td>\n",
       "      <td>0</td>\n",
       "      <td>0</td>\n",
       "    </tr>\n",
       "    <tr>\n",
       "      <th>60</th>\n",
       "      <td>AALELFEQEGLAPYLSR</td>\n",
       "      <td>LDRNTLAAMLIRELRAALELFEQEGLAPYL</td>\n",
       "      <td>LELFEQEGLAPYLSRWEKLDNFINRPVKLI</td>\n",
       "      <td>R</td>\n",
       "      <td>A</td>\n",
       "      <td>A</td>\n",
       "      <td>S</td>\n",
       "      <td>R</td>\n",
       "      <td>W</td>\n",
       "      <td>3</td>\n",
       "      <td>...</td>\n",
       "      <td>17</td>\n",
       "      <td>1049300</td>\n",
       "      <td>0</td>\n",
       "      <td>0</td>\n",
       "      <td>480540000</td>\n",
       "      <td>379780000</td>\n",
       "      <td>294740000</td>\n",
       "      <td>149620000</td>\n",
       "      <td>96999000</td>\n",
       "      <td>19314000</td>\n",
       "    </tr>\n",
       "    <tr>\n",
       "      <th>791</th>\n",
       "      <td>ANIAAITESDK</td>\n",
       "      <td>TDLVSIPHGPNVTVRANIAAITESDKFFIN</td>\n",
       "      <td>VTVRANIAAITESDKFFINGSNWEGILGLA</td>\n",
       "      <td>R</td>\n",
       "      <td>A</td>\n",
       "      <td>N</td>\n",
       "      <td>D</td>\n",
       "      <td>K</td>\n",
       "      <td>F</td>\n",
       "      <td>3</td>\n",
       "      <td>...</td>\n",
       "      <td>4</td>\n",
       "      <td>0</td>\n",
       "      <td>0</td>\n",
       "      <td>0</td>\n",
       "      <td>41739000</td>\n",
       "      <td>15095000</td>\n",
       "      <td>9020400</td>\n",
       "      <td>0</td>\n",
       "      <td>3960400</td>\n",
       "      <td>0</td>\n",
       "    </tr>\n",
       "    <tr>\n",
       "      <th>2012</th>\n",
       "      <td>DWGVDVFTVPGK</td>\n",
       "      <td>GMSRAAINKHIQTLRDWGVDVFTVPGKGYS</td>\n",
       "      <td>TLRDWGVDVFTVPGKGYSLPEPIQLLNAKQ</td>\n",
       "      <td>R</td>\n",
       "      <td>D</td>\n",
       "      <td>W</td>\n",
       "      <td>G</td>\n",
       "      <td>K</td>\n",
       "      <td>G</td>\n",
       "      <td>0</td>\n",
       "      <td>...</td>\n",
       "      <td>9</td>\n",
       "      <td>0</td>\n",
       "      <td>0</td>\n",
       "      <td>0</td>\n",
       "      <td>277130000</td>\n",
       "      <td>203190000</td>\n",
       "      <td>119400000</td>\n",
       "      <td>52446000</td>\n",
       "      <td>40932000</td>\n",
       "      <td>0</td>\n",
       "    </tr>\n",
       "    <tr>\n",
       "      <th>2388</th>\n",
       "      <td>EIFGISR</td>\n",
       "      <td>DNFINRPVKLIIGDKEIFGISRGIDKQGAL</td>\n",
       "      <td>VKLIIGDKEIFGISRGIDKQGALLLEQDGI</td>\n",
       "      <td>K</td>\n",
       "      <td>E</td>\n",
       "      <td>I</td>\n",
       "      <td>S</td>\n",
       "      <td>R</td>\n",
       "      <td>G</td>\n",
       "      <td>0</td>\n",
       "      <td>...</td>\n",
       "      <td>3</td>\n",
       "      <td>0</td>\n",
       "      <td>0</td>\n",
       "      <td>0</td>\n",
       "      <td>0</td>\n",
       "      <td>33647000</td>\n",
       "      <td>20827000</td>\n",
       "      <td>0</td>\n",
       "      <td>4970600</td>\n",
       "      <td>0</td>\n",
       "    </tr>\n",
       "  </tbody>\n",
       "</table>\n",
       "<p>5 rows × 84 columns</p>\n",
       "</div>"
      ],
      "text/plain": [
       "               Sequence          N-term cleavage window          C-term cleavage window Amino acid before First amino acid Second amino acid  \\\n",
       "55          AAINKHIQTLR  FHSGEQLGETLGMSRAAINKHIQTLRDWGV  GMSRAAINKHIQTLRDWGVDVFTVPGKGYS                 R                A                 A   \n",
       "60    AALELFEQEGLAPYLSR  LDRNTLAAMLIRELRAALELFEQEGLAPYL  LELFEQEGLAPYLSRWEKLDNFINRPVKLI                 R                A                 A   \n",
       "791         ANIAAITESDK  TDLVSIPHGPNVTVRANIAAITESDKFFIN  VTVRANIAAITESDKFFINGSNWEGILGLA                 R                A                 N   \n",
       "2012       DWGVDVFTVPGK  GMSRAAINKHIQTLRDWGVDVFTVPGKGYS  TLRDWGVDVFTVPGKGYSLPEPIQLLNAKQ                 R                D                 W   \n",
       "2388            EIFGISR  DNFINRPVKLIIGDKEIFGISRGIDKQGAL  VKLIIGDKEIFGISRGIDKQGALLLEQDGI                 K                E                 I   \n",
       "\n",
       "     Second last amino acid Last amino acid Amino acid after  A Count  ...  MS/MS Count  LFQ intensity C1  LFQ intensity C2  LFQ intensity C3  \\\n",
       "55                        L               R                D        2  ...            1                 0                 0                 0   \n",
       "60                        S               R                W        3  ...           17           1049300                 0                 0   \n",
       "791                       D               K                F        3  ...            4                 0                 0                 0   \n",
       "2012                      G               K                G        0  ...            9                 0                 0                 0   \n",
       "2388                      S               R                G        0  ...            3                 0                 0                 0   \n",
       "\n",
       "      LFQ intensity E1_24  LFQ intensity E1_48  LFQ intensity E2_24  LFQ intensity E2_48  LFQ intensity E3_24  LFQ intensity E3_48  \n",
       "55                 361090                    0                    0                    0                    0                    0  \n",
       "60              480540000            379780000            294740000            149620000             96999000             19314000  \n",
       "791              41739000             15095000              9020400                    0              3960400                    0  \n",
       "2012            277130000            203190000            119400000             52446000             40932000                    0  \n",
       "2388                    0             33647000             20827000                    0              4970600                    0  \n",
       "\n",
       "[5 rows x 84 columns]"
      ]
     },
     "execution_count": 51,
     "metadata": {},
     "output_type": "execute_result"
    }
   ],
   "source": [
    "df_pep = pd.read_csv('txt/peptides.zip',sep='\\t')\n",
    "\n",
    "peps = df_pep[df_pep['id'].isin(df[df['Majority protein IDs'].isin(['BACE1-BirA'])]['Peptide IDs'][0].split(';'))]\n",
    "peps.head()"
   ]
  },
  {
   "cell_type": "code",
   "execution_count": 52,
   "metadata": {},
   "outputs": [],
   "source": [
    "from IPython.core.display import display, HTML\n",
    "\n",
    "class ProtViz():\n",
    "    def __init__(self,seq):\n",
    "        self.seq = seq\n",
    "        \n",
    "    def add_peps(self,peps):\n",
    "        self.peps = peps\n",
    "        covered_aa = []\n",
    "        for pep in self.peps.index.values:\n",
    "            start = self.peps.loc[pep]['Start position'].astype(int)\n",
    "            end = self.peps.loc[pep]['End position'].astype(int)\n",
    "            covered_aa+=range(start,end+1)\n",
    "        covered_aa=set(covered_aa)\n",
    "        self.covered_aa = covered_aa\n",
    "\n",
    "    def get_coverage(self):\n",
    "        coverage=[]\n",
    "        for index,aa in enumerate(self.seq):\n",
    "            pos = index+1\n",
    "            if pos in self.covered_aa:\n",
    "                coverage.append(1)\n",
    "            else:\n",
    "                coverage.append(0)\n",
    "        self.coverage = coverage\n",
    "    \n",
    "    def make_bold(self):\n",
    "        self.get_coverage()\n",
    "        out = '<p style=\\\"font-family:\\'Courier New\\'\\\">'\n",
    "        for index,(cov,aa) in enumerate(zip(self.coverage,self.seq)):\n",
    "            if index%60==0:\n",
    "                out+='<br>'\n",
    "            if cov ==1:\n",
    "                out+='<b>'+aa+'</b>'\n",
    "            else:\n",
    "                out+=aa\n",
    "        out+='</p>'\n",
    "        return out"
   ]
  },
  {
   "cell_type": "markdown",
   "metadata": {},
   "source": [
    "### coverage"
   ]
  },
  {
   "cell_type": "code",
   "execution_count": 53,
   "metadata": {},
   "outputs": [
    {
     "data": {
      "text/html": [
       "<p style=\"font-family:'Courier New'\"><br>MAQALPWLLLWMGAGVLPAHGTQHGIRLPLR<b>S</b><b>G</b><b>L</b><b>G</b><b>G</b><b>A</b><b>P</b><b>L</b><b>G</b><b>L</b><b>R</b>LPR<b>E</b><b>T</b><b>D</b><b>E</b><b>E</b><b>P</b><b>E</b><b>E</b><b>P</b><b>G</b><b>R</b><b>R</b><b>G</b><b>S</b><b>F</b><br><b>V</b><b>E</b><b>M</b><b>V</b><b>D</b><b>N</b><b>L</b><b>R</b>GK<b>S</b><b>G</b><b>Q</b><b>G</b><b>Y</b><b>Y</b><b>V</b><b>E</b><b>M</b><b>T</b><b>V</b><b>G</b><b>S</b><b>P</b><b>P</b><b>Q</b><b>T</b><b>L</b><b>N</b><b>I</b><b>L</b><b>V</b><b>D</b><b>T</b><b>G</b><b>S</b><b>S</b><b>N</b><b>F</b><b>A</b><b>V</b><b>G</b><b>A</b><b>A</b><b>P</b><b>H</b><b>P</b><b>F</b><b>L</b><b>H</b><b>R</b>YYQR<b>Q</b><b>L</b><b>S</b><b>S</b><b>T</b><br><b>Y</b><b>R</b><b>D</b><b>L</b><b>R</b><b>K</b><b>G</b><b>V</b><b>Y</b><b>V</b><b>P</b><b>Y</b><b>T</b><b>Q</b><b>G</b><b>K</b><b>W</b><b>E</b><b>G</b><b>E</b><b>L</b><b>G</b><b>T</b><b>D</b><b>L</b><b>V</b><b>S</b><b>I</b><b>P</b><b>H</b><b>G</b><b>P</b><b>N</b><b>V</b><b>T</b><b>V</b><b>R</b><b>A</b><b>N</b><b>I</b><b>A</b><b>A</b><b>I</b><b>T</b><b>E</b><b>S</b><b>D</b><b>K</b>FFINGSNWEGIL<br>GLAYAEIARPDDSLEPFFDSLVKQTHVPNLFSLQLCGAGFPLNQSEVLASVGGSMIIGGI<br>DHSLYTGSLWYTPIR<b>R</b><b>E</b><b>W</b><b>Y</b><b>Y</b><b>E</b><b>V</b><b>I</b><b>I</b><b>V</b><b>R</b><b>V</b><b>E</b><b>I</b><b>N</b><b>G</b><b>Q</b><b>D</b><b>L</b><b>K</b>MDCKEYNYDK<b>S</b><b>I</b><b>V</b><b>D</b><b>S</b><b>G</b><b>T</b><b>T</b><b>N</b><b>L</b><b>R</b><b>L</b><b>P</b><b>K</b>K<br><b>V</b><b>F</b><b>E</b><b>A</b><b>A</b><b>V</b><b>K</b>SIKAASSTEKFPDGFWLGEQLVCWQAGTTPWNIFPVISLYLMGEVTNQSFRIT<br>ILPQQYLRPVEDVATSQDDCYKFAISQSSTGTVMGAVIMEGFYVVFDRARKRIGFAVSAC<br>HVHDEFRTAAVEGPFVTLDMEDCGYNIPQTDESTLMTIAYVMAAICALFMLPLCLMVCQW<br>RCLRCLR<b>Q</b><b>Q</b><b>H</b><b>D</b><b>D</b><b>F</b><b>A</b><b>D</b><b>D</b><b>I</b><b>S</b><b>L</b><b>L</b><b>K</b>GGSGGSKDNTVPLK<b>L</b><b>I</b><b>A</b><b>L</b><b>L</b><b>A</b><b>N</b><b>G</b><b>E</b><b>F</b><b>H</b><b>S</b><b>G</b><b>E</b><b>Q</b><b>L</b><b>G</b><b>E</b><b>T</b><b>L</b><b>G</b><b>M</b><b>S</b><b>R</b><b>A</b><br><b>A</b><b>I</b><b>N</b><b>K</b><b>H</b><b>I</b><b>Q</b><b>T</b><b>L</b><b>R</b><b>D</b><b>W</b><b>G</b><b>V</b><b>D</b><b>V</b><b>F</b><b>T</b><b>V</b><b>P</b><b>G</b><b>K</b><b>G</b><b>Y</b><b>S</b><b>L</b><b>P</b><b>E</b><b>P</b><b>I</b><b>Q</b><b>L</b><b>L</b><b>N</b><b>A</b><b>K</b><b>Q</b><b>I</b><b>L</b><b>G</b><b>Q</b><b>L</b><b>D</b><b>G</b><b>G</b><b>S</b><b>V</b><b>A</b><b>V</b><b>L</b><b>P</b><b>V</b><b>I</b><b>D</b><b>S</b><b>T</b><b>N</b><b>Q</b><b>Y</b><b>L</b><br><b>L</b><b>D</b><b>R</b>IGELKSGDACIAEYQQAGRGGRGRKWFSPFGANLYLSMFWRLEQGPAAAIGLSLVIG<br>IVMAEVLRKLGADKVR<b>V</b><b>K</b><b>W</b><b>P</b><b>N</b><b>D</b><b>L</b><b>Y</b><b>L</b><b>Q</b><b>D</b><b>R</b><b>K</b><b>L</b><b>A</b><b>G</b><b>I</b><b>L</b><b>V</b><b>E</b><b>L</b><b>T</b><b>G</b><b>K</b><b>T</b><b>G</b><b>D</b><b>A</b><b>A</b><b>Q</b><b>I</b><b>V</b><b>I</b><b>G</b><b>A</b><b>G</b><b>I</b><b>N</b><b>M</b><b>A</b><b>M</b><b>R</b><b>R</b><b>V</b><br><b>E</b><b>E</b><b>S</b><b>V</b><b>V</b><b>N</b><b>Q</b><b>G</b><b>W</b><b>I</b><b>T</b><b>L</b><b>Q</b><b>E</b><b>A</b><b>G</b><b>I</b><b>N</b><b>L</b><b>D</b><b>R</b><b>N</b><b>T</b><b>L</b><b>A</b><b>A</b><b>M</b><b>L</b><b>I</b><b>R</b>ELR<b>A</b><b>A</b><b>L</b><b>E</b><b>L</b><b>F</b><b>E</b><b>Q</b><b>E</b><b>G</b><b>L</b><b>A</b><b>P</b><b>Y</b><b>L</b><b>S</b><b>R</b><b>W</b><b>E</b><b>K</b><b>L</b><b>D</b><b>N</b><b>F</b><b>I</b><b>N</b><b>R</b><br><b>P</b><b>V</b><b>K</b><b>L</b><b>I</b><b>I</b><b>G</b><b>D</b><b>K</b><b>E</b><b>I</b><b>F</b><b>G</b><b>I</b><b>S</b><b>R</b><b>G</b><b>I</b><b>D</b><b>K</b><b>Q</b><b>G</b><b>A</b><b>L</b><b>L</b><b>L</b><b>E</b><b>Q</b><b>D</b><b>G</b><b>I</b><b>I</b><b>K</b><b>P</b><b>W</b><b>M</b><b>G</b><b>G</b><b>E</b><b>I</b><b>S</b><b>L</b><b>R</b>SAEKA</p>"
      ],
      "text/plain": [
       "<IPython.core.display.HTML object>"
      ]
     },
     "metadata": {},
     "output_type": "display_data"
    }
   ],
   "source": [
    "pv = ProtViz(seq_dict['BACE1-BirA'])\n",
    "pv.add_peps(peps[['Sequence','Start position','End position']])\n",
    "display(HTML(pv.make_bold()))"
   ]
  },
  {
   "cell_type": "code",
   "execution_count": 54,
   "metadata": {},
   "outputs": [],
   "source": [
    "## Save notebook as HTML"
   ]
  },
  {
   "cell_type": "code",
   "execution_count": 55,
   "metadata": {},
   "outputs": [
    {
     "name": "stdout",
     "output_type": "stream",
     "text": [
      "[NbConvertApp] Converting notebook analysis_def.ipynb to html_toc\n",
      "[NbConvertApp] Support files will be in analysis_def_files/\n",
      "[NbConvertApp] Making directory analysis_def_files\n",
      "[NbConvertApp] Making directory analysis_def_files\n",
      "[NbConvertApp] Making directory analysis_def_files\n",
      "[NbConvertApp] Making directory analysis_def_files\n",
      "[NbConvertApp] Making directory analysis_def_files\n",
      "[NbConvertApp] Making directory analysis_def_files\n",
      "[NbConvertApp] Writing 438253 bytes to analysis_def.html\n"
     ]
    }
   ],
   "source": [
    "!jupyter nbconvert --to html_toc analysis_def.ipynb"
   ]
  },
  {
   "cell_type": "code",
   "execution_count": null,
   "metadata": {},
   "outputs": [],
   "source": []
  }
 ],
 "metadata": {
  "hide_input": false,
  "kernelspec": {
   "display_name": "Python 3",
   "language": "python",
   "name": "python3"
  },
  "language_info": {
   "codemirror_mode": {
    "name": "ipython",
    "version": 3
   },
   "file_extension": ".py",
   "mimetype": "text/x-python",
   "name": "python",
   "nbconvert_exporter": "python",
   "pygments_lexer": "ipython3",
   "version": "3.8.2"
  },
  "toc": {
   "base_numbering": 1,
   "nav_menu": {},
   "number_sections": true,
   "sideBar": true,
   "skip_h1_title": false,
   "title_cell": "Table of Contents",
   "title_sidebar": "Contents",
   "toc_cell": false,
   "toc_position": {},
   "toc_section_display": true,
   "toc_window_display": true
  }
 },
 "nbformat": 4,
 "nbformat_minor": 4
}
